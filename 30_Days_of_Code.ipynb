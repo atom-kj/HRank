{
 "cells": [
  {
   "cell_type": "markdown",
   "metadata": {},
   "source": []
  },
  {
   "cell_type": "code",
   "execution_count": 2,
   "metadata": {},
   "outputs": [],
   "source": [
    "def HelloWorld(text):\n",
    "    \"\"\"\n",
    "    Print text.\n",
    "    \n",
    "    Argument:\n",
    "    text -- strings to print\n",
    "    \"\"\"\n",
    "    # Read a full line of input from variable text and save it to our dynamically typed variable, input_string.\n",
    "    input_string = text\n",
    "\n",
    "    # Print a string literal saying \"Hello, World.\" to stdout.\n",
    "    print('Hello, World.')\n",
    "\n",
    "    # Write a line of code here that prints the contents of input_string to stdout.\n",
    "    print(input_string)\n"
   ]
  },
  {
   "cell_type": "code",
   "execution_count": 3,
   "metadata": {},
   "outputs": [
    {
     "name": "stdout",
     "output_type": "stream",
     "text": [
      "Hello, World.\n",
      "Welcome to 30 Days of Code!\n"
     ]
    }
   ],
   "source": [
    "HelloWorld('Welcome to 30 Days of Code!')"
   ]
  },
  {
   "cell_type": "code",
   "execution_count": null,
   "metadata": {},
   "outputs": [],
   "source": []
  }
 ],
 "metadata": {
  "kernelspec": {
   "display_name": "Python 3",
   "language": "python",
   "name": "python3"
  },
  "language_info": {
   "codemirror_mode": {
    "name": "ipython",
    "version": 3
   },
   "file_extension": ".py",
   "mimetype": "text/x-python",
   "name": "python",
   "nbconvert_exporter": "python",
   "pygments_lexer": "ipython3",
   "version": "3.6.7"
  }
 },
 "nbformat": 4,
 "nbformat_minor": 2
}
